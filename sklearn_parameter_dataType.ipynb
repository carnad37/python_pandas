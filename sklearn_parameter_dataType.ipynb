{
 "cells": [
  {
   "cell_type": "code",
   "execution_count": 67,
   "metadata": {},
   "outputs": [
    {
     "data": {
      "text/html": [
       "<div>\n",
       "<style scoped>\n",
       "    .dataframe tbody tr th:only-of-type {\n",
       "        vertical-align: middle;\n",
       "    }\n",
       "\n",
       "    .dataframe tbody tr th {\n",
       "        vertical-align: top;\n",
       "    }\n",
       "\n",
       "    .dataframe thead th {\n",
       "        text-align: right;\n",
       "    }\n",
       "</style>\n",
       "<table border=\"1\" class=\"dataframe\">\n",
       "  <thead>\n",
       "    <tr style=\"text-align: right;\">\n",
       "      <th></th>\n",
       "      <th>age</th>\n",
       "      <th>height</th>\n",
       "      <th>weight</th>\n",
       "    </tr>\n",
       "  </thead>\n",
       "  <tbody>\n",
       "    <tr>\n",
       "      <th>0</th>\n",
       "      <td>1세</td>\n",
       "      <td>80.1</td>\n",
       "      <td>10.9</td>\n",
       "    </tr>\n",
       "    <tr>\n",
       "      <th>1</th>\n",
       "      <td>2세</td>\n",
       "      <td>87.8</td>\n",
       "      <td>13.2</td>\n",
       "    </tr>\n",
       "    <tr>\n",
       "      <th>2</th>\n",
       "      <td>3세</td>\n",
       "      <td>95.2</td>\n",
       "      <td>14.8</td>\n",
       "    </tr>\n",
       "    <tr>\n",
       "      <th>3</th>\n",
       "      <td>4세</td>\n",
       "      <td>102.3</td>\n",
       "      <td>16.7</td>\n",
       "    </tr>\n",
       "    <tr>\n",
       "      <th>4</th>\n",
       "      <td>5세</td>\n",
       "      <td>109.0</td>\n",
       "      <td>19.1</td>\n",
       "    </tr>\n",
       "    <tr>\n",
       "      <th>5</th>\n",
       "      <td>6세</td>\n",
       "      <td>115.5</td>\n",
       "      <td>21.5</td>\n",
       "    </tr>\n",
       "    <tr>\n",
       "      <th>6</th>\n",
       "      <td>7세</td>\n",
       "      <td>122.0</td>\n",
       "      <td>24.9</td>\n",
       "    </tr>\n",
       "    <tr>\n",
       "      <th>7</th>\n",
       "      <td>8세</td>\n",
       "      <td>127.8</td>\n",
       "      <td>28.5</td>\n",
       "    </tr>\n",
       "    <tr>\n",
       "      <th>8</th>\n",
       "      <td>9세</td>\n",
       "      <td>133.3</td>\n",
       "      <td>32.3</td>\n",
       "    </tr>\n",
       "    <tr>\n",
       "      <th>9</th>\n",
       "      <td>10세</td>\n",
       "      <td>138.0</td>\n",
       "      <td>35.4</td>\n",
       "    </tr>\n",
       "    <tr>\n",
       "      <th>10</th>\n",
       "      <td>11세</td>\n",
       "      <td>144.9</td>\n",
       "      <td>41.5</td>\n",
       "    </tr>\n",
       "    <tr>\n",
       "      <th>11</th>\n",
       "      <td>12세</td>\n",
       "      <td>150.7</td>\n",
       "      <td>45.2</td>\n",
       "    </tr>\n",
       "    <tr>\n",
       "      <th>12</th>\n",
       "      <td>13세</td>\n",
       "      <td>158.2</td>\n",
       "      <td>51.0</td>\n",
       "    </tr>\n",
       "    <tr>\n",
       "      <th>13</th>\n",
       "      <td>14세</td>\n",
       "      <td>164.7</td>\n",
       "      <td>57.1</td>\n",
       "    </tr>\n",
       "    <tr>\n",
       "      <th>14</th>\n",
       "      <td>15세</td>\n",
       "      <td>169.2</td>\n",
       "      <td>61.7</td>\n",
       "    </tr>\n",
       "    <tr>\n",
       "      <th>15</th>\n",
       "      <td>16세</td>\n",
       "      <td>170.3</td>\n",
       "      <td>63.4</td>\n",
       "    </tr>\n",
       "    <tr>\n",
       "      <th>16</th>\n",
       "      <td>17세</td>\n",
       "      <td>172.5</td>\n",
       "      <td>65.2</td>\n",
       "    </tr>\n",
       "    <tr>\n",
       "      <th>17</th>\n",
       "      <td>18세</td>\n",
       "      <td>172.9</td>\n",
       "      <td>67.4</td>\n",
       "    </tr>\n",
       "    <tr>\n",
       "      <th>18</th>\n",
       "      <td>19세</td>\n",
       "      <td>173.4</td>\n",
       "      <td>68.3</td>\n",
       "    </tr>\n",
       "  </tbody>\n",
       "</table>\n",
       "</div>"
      ],
      "text/plain": [
       "    age  height  weight\n",
       "0    1세    80.1    10.9\n",
       "1    2세    87.8    13.2\n",
       "2    3세    95.2    14.8\n",
       "3    4세   102.3    16.7\n",
       "4    5세   109.0    19.1\n",
       "5    6세   115.5    21.5\n",
       "6    7세   122.0    24.9\n",
       "7    8세   127.8    28.5\n",
       "8    9세   133.3    32.3\n",
       "9   10세   138.0    35.4\n",
       "10  11세   144.9    41.5\n",
       "11  12세   150.7    45.2\n",
       "12  13세   158.2    51.0\n",
       "13  14세   164.7    57.1\n",
       "14  15세   169.2    61.7\n",
       "15  16세   170.3    63.4\n",
       "16  17세   172.5    65.2\n",
       "17  18세   172.9    67.4\n",
       "18  19세   173.4    68.3"
      ]
     },
     "execution_count": 67,
     "metadata": {},
     "output_type": "execute_result"
    }
   ],
   "source": [
    "#일원 선형회귀\n",
    "import numpy as np\n",
    "import pandas as pd\n",
    "from sklearn.linear_model import LinearRegression\n",
    "from sklearn.model_selection import train_test_split\n",
    "df = pd.read_csv(\"regression.csv\")\n",
    "\n",
    "\n",
    "\n",
    "df"
   ]
  },
  {
   "cell_type": "markdown",
   "metadata": {},
   "source": [
    "# fit(x,y) , predict(x) \n",
    "# x, y에 들어갈수 있는 타입 \n",
    "\n",
    "##  1. numpy 2차원 배열\n",
    "     df.height 는  series  ex) [80.1, 87.8, 95.2]\n",
    "         1.1 np.array()를 이용 로 변경시 numpy 1차원 배열의 형태로 변경됨 ex)[80.1, 87.8, 95.2]\n",
    "         1.2 reshape(-1,1) 사용 2차원 배열의 형태로 변경해야 함 :  [[80.1, 87.8, 95.2]]\n"
   ]
  },
  {
   "cell_type": "code",
   "execution_count": 68,
   "metadata": {},
   "outputs": [],
   "source": [
    "#weight : 독립변수(x), height : 종속변수(y)\n",
    "npLr=LinearRegression()\n",
    "#1-1  \n",
    "weightNpArray = np.array(df.weight)\n",
    "heightNpArray = np.array(df.height)\n",
    "#1-2\n",
    "X_weightNpArrayD2 = weightNpArray.reshape(-1,1)\n",
    "y_heightNpArrayD2 = heightNpArray.reshape(-1,1)\n",
    "npModel = npLr.fit(X_weightNpArrayD2, y_heightNpArrayD2)    \n"
   ]
  },
  {
   "cell_type": "code",
   "execution_count": 69,
   "metadata": {},
   "outputs": [
    {
     "name": "stdout",
     "output_type": "stream",
     "text": [
      "[[1.49421502]] [78.15367846]\n"
     ]
    },
    {
     "data": {
      "text/plain": [
       "array([[175.27765502]])"
      ]
     },
     "execution_count": 69,
     "metadata": {},
     "output_type": "execute_result"
    }
   ],
   "source": [
    "\n",
    "\n",
    "X_testWeight=np.array([65]).reshape(-1,1)\n",
    "y_testHeight=npModel.predict(X_testWeight)\n",
    "\n",
    "print(npModel.coef_, npModel.intercept_)\n",
    "y_testHeight"
   ]
  },
  {
   "cell_type": "markdown",
   "metadata": {},
   "source": [
    "##    2. dataframe\n",
    "    df.height 는  series ex) [80.1, 87.8, 95.2]\n",
    "         2.1 데이터 프레임으로 변경\n",
    "             df1 = pd.DataFrame(data=df.height.values, columns=['height'])\n",
    "             df2 = pd.DataFrame({'height'df.height.values})\n",
    "         \n",
    "\n",
    " "
   ]
  },
  {
   "cell_type": "code",
   "execution_count": 85,
   "metadata": {},
   "outputs": [
    {
     "data": {
      "text/plain": [
       "6"
      ]
     },
     "execution_count": 85,
     "metadata": {},
     "output_type": "execute_result"
    }
   ],
   "source": [
    "        \n",
    "# wdf=pd.DataFrame(df.weight)\n",
    "# hdf=pd.DataFrame(df.height)\n",
    "\n",
    "#2-1\n",
    "dfw = pd.DataFrame(data=df.weight.values, columns=['weight'])\n",
    "\n",
    "dfh = pd.DataFrame({'height':df.height.values})\n",
    "\n",
    "X_train, X_test, y_train, y_test = train_test_split(dfw, dfh, test_size=0.3, random_state=0)\n",
    "dfLr=LinearRegression()\n",
    "dfModel= dfLr.fit(X_train, y_train)    \n",
    "len(y_test.index)"
   ]
  },
  {
   "cell_type": "code",
   "execution_count": 90,
   "metadata": {},
   "outputs": [
    {
     "name": "stdout",
     "output_type": "stream",
     "text": [
      "    weight\n",
      "10    41.5\n",
      "1     13.2\n",
      "8     32.3\n",
      "18    68.3\n",
      "14    61.7\n",
      "16    65.2\n"
     ]
    },
    {
     "data": {
      "text/plain": [
       "1.0"
      ]
     },
     "execution_count": 90,
     "metadata": {},
     "output_type": "execute_result"
    }
   ],
   "source": [
    "y_test=dfModel.predict(X_test)\n",
    "print(X_test)\n"
   ]
  },
  {
   "cell_type": "code",
   "execution_count": 21,
   "metadata": {},
   "outputs": [
    {
     "name": "stdout",
     "output_type": "stream",
     "text": [
      "[[ 1  2  3]\n",
      " [ 4  5  6]\n",
      " [ 7  8  9]\n",
      " [10 11 12]]\n"
     ]
    },
    {
     "data": {
      "text/plain": [
       "(4, 3)"
      ]
     },
     "execution_count": 21,
     "metadata": {},
     "output_type": "execute_result"
    }
   ],
   "source": [
    "data=[1,2,3]\n",
    "arr1=np.array(data)\n",
    "arr1\n",
    "arr1.shape\n",
    "arr2=np.array([[1,2,3],[4,5,6],[7,8,9],[10,11,12]])\n",
    "print(arr2)\n",
    "arr2.shape"
   ]
  },
  {
   "cell_type": "code",
   "execution_count": null,
   "metadata": {},
   "outputs": [],
   "source": []
  },
  {
   "cell_type": "code",
   "execution_count": null,
   "metadata": {},
   "outputs": [],
   "source": []
  },
  {
   "cell_type": "code",
   "execution_count": null,
   "metadata": {},
   "outputs": [],
   "source": []
  },
  {
   "cell_type": "code",
   "execution_count": null,
   "metadata": {},
   "outputs": [],
   "source": []
  },
  {
   "cell_type": "code",
   "execution_count": null,
   "metadata": {},
   "outputs": [],
   "source": []
  },
  {
   "cell_type": "code",
   "execution_count": null,
   "metadata": {},
   "outputs": [],
   "source": []
  }
 ],
 "metadata": {
  "kernelspec": {
   "display_name": "Python 3",
   "language": "python",
   "name": "python3"
  },
  "language_info": {
   "codemirror_mode": {
    "name": "ipython",
    "version": 3
   },
   "file_extension": ".py",
   "mimetype": "text/x-python",
   "name": "python",
   "nbconvert_exporter": "python",
   "pygments_lexer": "ipython3",
   "version": "3.7.3"
  }
 },
 "nbformat": 4,
 "nbformat_minor": 2
}
