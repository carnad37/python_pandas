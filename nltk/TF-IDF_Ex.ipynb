{
 "cells": [
  {
   "cell_type": "code",
   "execution_count": 1,
   "metadata": {},
   "outputs": [],
   "source": [
    "import pandas as pd\n",
    "\n",
    "\n",
    "text = [\n",
    "    '남북 고위급회담 대표단 확정..남북 해빙모드 급물살',\n",
    "    '[남북 고위급 회담]장차관만 6명..판 커지는 올림픽 회담',\n",
    "    \n",
    "    '문재인 대통령과 대통령의 영부인 김정숙여사 내외의 동반 1987 관람 후 인터뷰',\n",
    "    '1987 본 문 대통령..\"그런다고 바뀌나? 함께 하면 바뀐다\"',\n",
    "    \n",
    "    '이명박 전 대통령과 전 대통령의 부인 김윤옥 여사, 그리고 전 대통령의 아들 이시형씨의 동반 검찰출석이 기대됨'\n",
    "]\n",
    " "
   ]
  },
  {
   "cell_type": "code",
   "execution_count": 2,
   "metadata": {},
   "outputs": [],
   "source": [
    "from konlpy.tag import Okt\n",
    "tagger = Okt()"
   ]
  },
  {
   "cell_type": "code",
   "execution_count": 3,
   "metadata": {},
   "outputs": [],
   "source": [
    "from sklearn.feature_extraction.text import CountVectorizer\n",
    "#CountVectorizer는 토큰의 문서별 등장 횟수를 행렬로 정리해서 보여줌.\n",
    "cv = CountVectorizer(tokenizer=tagger.nouns)"
   ]
  },
  {
   "cell_type": "code",
   "execution_count": 4,
   "metadata": {},
   "outputs": [
    {
     "name": "stdout",
     "output_type": "stream",
     "text": [
      "CountVectorizer(analyzer='word', binary=False, decode_error='strict',\n",
      "        dtype=<class 'numpy.int64'>, encoding='utf-8', input='content',\n",
      "        lowercase=True, max_df=1.0, max_features=None, min_df=1,\n",
      "        ngram_range=(1, 1), preprocessor=None, stop_words=None,\n",
      "        strip_accents=None, token_pattern='(?u)\\\\b\\\\w\\\\w+\\\\b',\n",
      "        tokenizer=<bound method Okt.nouns of <konlpy.tag._okt.Okt object at 0x0000000004CF03C8>>,\n",
      "        vocabulary=None)\n",
      "  (0, 1)\t1\n",
      "  (0, 3)\t1\n",
      "  (0, 7)\t2\n",
      "  (0, 9)\t1\n",
      "  (0, 11)\t1\n",
      "  (0, 14)\t1\n",
      "  (0, 17)\t1\n",
      "  (0, 31)\t1\n",
      "  (0, 32)\t1\n",
      "  (0, 33)\t1\n",
      "  (1, 1)\t1\n",
      "  (1, 7)\t1\n",
      "  (1, 13)\t1\n",
      "  (1, 22)\t1\n",
      "  (1, 26)\t1\n",
      "  (1, 28)\t1\n",
      "  (1, 30)\t1\n",
      "  (1, 33)\t2\n",
      "  (2, 2)\t1\n",
      "  (2, 6)\t1\n",
      "  (2, 8)\t1\n",
      "  (2, 10)\t2\n",
      "  (2, 12)\t1\n",
      "  (2, 16)\t1\n",
      "  (2, 20)\t1\n",
      "  (2, 21)\t1\n",
      "  (2, 25)\t1\n",
      "  (2, 34)\t1\n",
      "  (3, 10)\t1\n",
      "  (3, 15)\t1\n",
      "  (4, 0)\t1\n",
      "  (4, 4)\t1\n",
      "  (4, 5)\t1\n",
      "  (4, 10)\t3\n",
      "  (4, 12)\t1\n",
      "  (4, 18)\t1\n",
      "  (4, 19)\t1\n",
      "  (4, 20)\t1\n",
      "  (4, 23)\t1\n",
      "  (4, 24)\t1\n",
      "  (4, 27)\t3\n",
      "  (4, 29)\t1\n"
     ]
    }
   ],
   "source": [
    "tdm = cv.fit_transform(text)\n",
    "#fit_transform은 fit과 transform두개의 메소드를 합친것.\n",
    "test1 = cv.fit(text)\n",
    "print(test1)\n",
    "test2 = cv.transform(text)\n",
    "print(test2)\n"
   ]
  },
  {
   "cell_type": "code",
   "execution_count": 5,
   "metadata": {
    "scrolled": true
   },
   "outputs": [
    {
     "name": "stdout",
     "output_type": "stream",
     "text": [
      "  (0, 17)\t1\n",
      "  (0, 3)\t1\n",
      "  (0, 14)\t1\n",
      "  (0, 31)\t1\n",
      "  (0, 32)\t1\n",
      "  (0, 9)\t1\n",
      "  (0, 11)\t1\n",
      "  (0, 33)\t1\n",
      "  (0, 1)\t1\n",
      "  (0, 7)\t2\n",
      "  (1, 22)\t1\n",
      "  (1, 30)\t1\n",
      "  (1, 13)\t1\n",
      "  (1, 28)\t1\n",
      "  (1, 26)\t1\n",
      "  (1, 33)\t2\n",
      "  (1, 1)\t1\n",
      "  (1, 7)\t1\n",
      "  (2, 25)\t1\n",
      "  (2, 34)\t1\n",
      "  (2, 2)\t1\n",
      "  (2, 12)\t1\n",
      "  (2, 8)\t1\n",
      "  (2, 20)\t1\n",
      "  (2, 6)\t1\n",
      "  (2, 21)\t1\n",
      "  (2, 10)\t2\n",
      "  (2, 16)\t1\n",
      "  (3, 15)\t1\n",
      "  (3, 10)\t1\n",
      "  (4, 4)\t1\n",
      "  (4, 29)\t1\n",
      "  (4, 0)\t1\n",
      "  (4, 24)\t1\n",
      "  (4, 19)\t1\n",
      "  (4, 5)\t1\n",
      "  (4, 18)\t1\n",
      "  (4, 27)\t3\n",
      "  (4, 23)\t1\n",
      "  (4, 12)\t1\n",
      "  (4, 20)\t1\n",
      "  (4, 10)\t3\n"
     ]
    }
   ],
   "source": [
    "print(tdm)"
   ]
  },
  {
   "cell_type": "code",
   "execution_count": 6,
   "metadata": {
    "scrolled": true
   },
   "outputs": [
    {
     "data": {
      "text/plain": [
       "array([[0, 1, 0, 1, 0, 0, 0, 2, 0, 1, 0, 1, 0, 0, 1, 0, 0, 1, 0, 0, 0, 0,\n",
       "        0, 0, 0, 0, 0, 0, 0, 0, 0, 1, 1, 1, 0],\n",
       "       [0, 1, 0, 0, 0, 0, 0, 1, 0, 0, 0, 0, 0, 1, 0, 0, 0, 0, 0, 0, 0, 0,\n",
       "        1, 0, 0, 0, 1, 0, 1, 0, 1, 0, 0, 2, 0],\n",
       "       [0, 0, 1, 0, 0, 0, 1, 0, 1, 0, 2, 0, 1, 0, 0, 0, 1, 0, 0, 0, 1, 1,\n",
       "        0, 0, 0, 1, 0, 0, 0, 0, 0, 0, 0, 0, 1],\n",
       "       [0, 0, 0, 0, 0, 0, 0, 0, 0, 0, 1, 0, 0, 0, 0, 1, 0, 0, 0, 0, 0, 0,\n",
       "        0, 0, 0, 0, 0, 0, 0, 0, 0, 0, 0, 0, 0],\n",
       "       [1, 0, 0, 0, 1, 1, 0, 0, 0, 0, 3, 0, 1, 0, 0, 0, 0, 0, 1, 1, 1, 0,\n",
       "        0, 1, 1, 0, 0, 3, 0, 1, 0, 0, 0, 0, 0]], dtype=int64)"
      ]
     },
     "execution_count": 6,
     "metadata": {},
     "output_type": "execute_result"
    }
   ],
   "source": [
    "tdm.toarray() #각각의 리스트는 문자열 한 줄씩을 의미."
   ]
  },
  {
   "cell_type": "code",
   "execution_count": 7,
   "metadata": {},
   "outputs": [
    {
     "data": {
      "text/plain": [
       "matrix([[1, 2, 1, 1, 1, 1, 1, 3, 1, 1, 6, 1, 2, 1, 1, 1, 1, 1, 1, 1, 2,\n",
       "         1, 1, 1, 1, 1, 1, 3, 1, 1, 1, 1, 1, 3, 1]], dtype=int64)"
      ]
     },
     "execution_count": 7,
     "metadata": {},
     "output_type": "execute_result"
    }
   ],
   "source": [
    "tdm.sum(axis=0)"
   ]
  },
  {
   "cell_type": "code",
   "execution_count": 10,
   "metadata": {},
   "outputs": [
    {
     "name": "stderr",
     "output_type": "stream",
     "text": [
      "C:\\ProgramData\\Anaconda3\\lib\\site-packages\\pandas\\core\\dtypes\\dtypes.py:271: FutureWarning: elementwise comparison failed; returning scalar instead, but in the future will perform elementwise comparison\n",
      "  if string == 'category':\n"
     ]
    }
   ],
   "source": [
    "# word_count = pd.DataFrame(\n",
    "#     {'단어' : cv.get_feature_names(),\n",
    "#      '빈도' : tdm.sum(axis=0).flat\n",
    "#     }\n",
    "\n",
    "# )\n"
   ]
  },
  {
   "cell_type": "code",
   "execution_count": 11,
   "metadata": {
    "scrolled": true
   },
   "outputs": [
    {
     "data": {
      "text/html": [
       "<div>\n",
       "<style scoped>\n",
       "    .dataframe tbody tr th:only-of-type {\n",
       "        vertical-align: middle;\n",
       "    }\n",
       "\n",
       "    .dataframe tbody tr th {\n",
       "        vertical-align: top;\n",
       "    }\n",
       "\n",
       "    .dataframe thead th {\n",
       "        text-align: right;\n",
       "    }\n",
       "</style>\n",
       "<table border=\"1\" class=\"dataframe\">\n",
       "  <thead>\n",
       "    <tr style=\"text-align: right;\">\n",
       "      <th></th>\n",
       "      <th>단어</th>\n",
       "      <th>빈도</th>\n",
       "    </tr>\n",
       "  </thead>\n",
       "  <tbody>\n",
       "    <tr>\n",
       "      <th>10</th>\n",
       "      <td>대통령</td>\n",
       "      <td>6</td>\n",
       "    </tr>\n",
       "    <tr>\n",
       "      <th>27</th>\n",
       "      <td>전</td>\n",
       "      <td>3</td>\n",
       "    </tr>\n",
       "    <tr>\n",
       "      <th>33</th>\n",
       "      <td>회담</td>\n",
       "      <td>3</td>\n",
       "    </tr>\n",
       "    <tr>\n",
       "      <th>7</th>\n",
       "      <td>남북</td>\n",
       "      <td>3</td>\n",
       "    </tr>\n",
       "    <tr>\n",
       "      <th>12</th>\n",
       "      <td>동반</td>\n",
       "      <td>2</td>\n",
       "    </tr>\n",
       "    <tr>\n",
       "      <th>1</th>\n",
       "      <td>고위</td>\n",
       "      <td>2</td>\n",
       "    </tr>\n",
       "    <tr>\n",
       "      <th>20</th>\n",
       "      <td>여사</td>\n",
       "      <td>2</td>\n",
       "    </tr>\n",
       "    <tr>\n",
       "      <th>22</th>\n",
       "      <td>올림픽</td>\n",
       "      <td>1</td>\n",
       "    </tr>\n",
       "    <tr>\n",
       "      <th>23</th>\n",
       "      <td>이명박</td>\n",
       "      <td>1</td>\n",
       "    </tr>\n",
       "    <tr>\n",
       "      <th>24</th>\n",
       "      <td>이시형</td>\n",
       "      <td>1</td>\n",
       "    </tr>\n",
       "    <tr>\n",
       "      <th>25</th>\n",
       "      <td>인터뷰</td>\n",
       "      <td>1</td>\n",
       "    </tr>\n",
       "    <tr>\n",
       "      <th>0</th>\n",
       "      <td>검찰</td>\n",
       "      <td>1</td>\n",
       "    </tr>\n",
       "    <tr>\n",
       "      <th>26</th>\n",
       "      <td>장</td>\n",
       "      <td>1</td>\n",
       "    </tr>\n",
       "    <tr>\n",
       "      <th>28</th>\n",
       "      <td>차관</td>\n",
       "      <td>1</td>\n",
       "    </tr>\n",
       "    <tr>\n",
       "      <th>29</th>\n",
       "      <td>출석</td>\n",
       "      <td>1</td>\n",
       "    </tr>\n",
       "    <tr>\n",
       "      <th>30</th>\n",
       "      <td>판</td>\n",
       "      <td>1</td>\n",
       "    </tr>\n",
       "    <tr>\n",
       "      <th>31</th>\n",
       "      <td>해빙</td>\n",
       "      <td>1</td>\n",
       "    </tr>\n",
       "    <tr>\n",
       "      <th>32</th>\n",
       "      <td>확정</td>\n",
       "      <td>1</td>\n",
       "    </tr>\n",
       "    <tr>\n",
       "      <th>21</th>\n",
       "      <td>영부인</td>\n",
       "      <td>1</td>\n",
       "    </tr>\n",
       "    <tr>\n",
       "      <th>17</th>\n",
       "      <td>물살</td>\n",
       "      <td>1</td>\n",
       "    </tr>\n",
       "    <tr>\n",
       "      <th>19</th>\n",
       "      <td>아들</td>\n",
       "      <td>1</td>\n",
       "    </tr>\n",
       "    <tr>\n",
       "      <th>18</th>\n",
       "      <td>부인</td>\n",
       "      <td>1</td>\n",
       "    </tr>\n",
       "    <tr>\n",
       "      <th>16</th>\n",
       "      <td>문재인</td>\n",
       "      <td>1</td>\n",
       "    </tr>\n",
       "    <tr>\n",
       "      <th>15</th>\n",
       "      <td>문</td>\n",
       "      <td>1</td>\n",
       "    </tr>\n",
       "    <tr>\n",
       "      <th>14</th>\n",
       "      <td>모드</td>\n",
       "      <td>1</td>\n",
       "    </tr>\n",
       "    <tr>\n",
       "      <th>13</th>\n",
       "      <td>명</td>\n",
       "      <td>1</td>\n",
       "    </tr>\n",
       "    <tr>\n",
       "      <th>11</th>\n",
       "      <td>대표</td>\n",
       "      <td>1</td>\n",
       "    </tr>\n",
       "    <tr>\n",
       "      <th>9</th>\n",
       "      <td>단</td>\n",
       "      <td>1</td>\n",
       "    </tr>\n",
       "    <tr>\n",
       "      <th>8</th>\n",
       "      <td>내외</td>\n",
       "      <td>1</td>\n",
       "    </tr>\n",
       "    <tr>\n",
       "      <th>6</th>\n",
       "      <td>김정숙</td>\n",
       "      <td>1</td>\n",
       "    </tr>\n",
       "    <tr>\n",
       "      <th>5</th>\n",
       "      <td>김윤옥</td>\n",
       "      <td>1</td>\n",
       "    </tr>\n",
       "    <tr>\n",
       "      <th>4</th>\n",
       "      <td>기대</td>\n",
       "      <td>1</td>\n",
       "    </tr>\n",
       "    <tr>\n",
       "      <th>3</th>\n",
       "      <td>급</td>\n",
       "      <td>1</td>\n",
       "    </tr>\n",
       "    <tr>\n",
       "      <th>2</th>\n",
       "      <td>관람</td>\n",
       "      <td>1</td>\n",
       "    </tr>\n",
       "    <tr>\n",
       "      <th>34</th>\n",
       "      <td>후</td>\n",
       "      <td>1</td>\n",
       "    </tr>\n",
       "  </tbody>\n",
       "</table>\n",
       "</div>"
      ],
      "text/plain": [
       "     단어  빈도\n",
       "10  대통령   6\n",
       "27    전   3\n",
       "33   회담   3\n",
       "7    남북   3\n",
       "12   동반   2\n",
       "1    고위   2\n",
       "20   여사   2\n",
       "22  올림픽   1\n",
       "23  이명박   1\n",
       "24  이시형   1\n",
       "25  인터뷰   1\n",
       "0    검찰   1\n",
       "26    장   1\n",
       "28   차관   1\n",
       "29   출석   1\n",
       "30    판   1\n",
       "31   해빙   1\n",
       "32   확정   1\n",
       "21  영부인   1\n",
       "17   물살   1\n",
       "19   아들   1\n",
       "18   부인   1\n",
       "16  문재인   1\n",
       "15    문   1\n",
       "14   모드   1\n",
       "13    명   1\n",
       "11   대표   1\n",
       "9     단   1\n",
       "8    내외   1\n",
       "6   김정숙   1\n",
       "5   김윤옥   1\n",
       "4    기대   1\n",
       "3     급   1\n",
       "2    관람   1\n",
       "34    후   1"
      ]
     },
     "execution_count": 11,
     "metadata": {},
     "output_type": "execute_result"
    }
   ],
   "source": [
    "\n",
    "word_count.sort_values('빈도', ascending=False)"
   ]
  },
  {
   "cell_type": "code",
   "execution_count": 13,
   "metadata": {
    "scrolled": false
   },
   "outputs": [
    {
     "name": "stdout",
     "output_type": "stream",
     "text": [
      "  (0, 33)\t0.24430917615542821\n",
      "  (0, 32)\t0.3028149266649128\n",
      "  (0, 31)\t0.3028149266649128\n",
      "  (0, 17)\t0.3028149266649128\n",
      "  (0, 14)\t0.3028149266649128\n",
      "  (0, 11)\t0.3028149266649128\n",
      "  (0, 9)\t0.3028149266649128\n",
      "  (0, 7)\t0.48861835231085643\n",
      "  (0, 3)\t0.3028149266649128\n",
      "  (0, 1)\t0.24430917615542821\n",
      "  (1, 33)\t0.5407087874491917\n",
      "  (1, 30)\t0.33509730251460906\n",
      "  (1, 28)\t0.33509730251460906\n",
      "  (1, 26)\t0.33509730251460906\n",
      "  (1, 22)\t0.33509730251460906\n",
      "  (1, 13)\t0.33509730251460906\n",
      "  (1, 7)\t0.27035439372459585\n",
      "  (1, 1)\t0.27035439372459585\n",
      "  (2, 34)\t0.3147224767563814\n",
      "  (2, 25)\t0.3147224767563814\n",
      "  (2, 21)\t0.3147224767563814\n",
      "  (2, 20)\t0.2539161125931929\n",
      "  (2, 16)\t0.3147224767563814\n",
      "  (2, 12)\t0.2539161125931929\n",
      "  (2, 10)\t0.42154662126676445\n",
      "  (2, 8)\t0.3147224767563814\n",
      "  (2, 6)\t0.3147224767563814\n",
      "  (2, 2)\t0.3147224767563814\n",
      "  (3, 15)\t0.830880748357988\n",
      "  (3, 10)\t0.5564505207186616\n",
      "  (4, 29)\t0.2115794233784669\n",
      "  (4, 27)\t0.6347382701354007\n",
      "  (4, 24)\t0.2115794233784669\n",
      "  (4, 23)\t0.2115794233784669\n",
      "  (4, 20)\t0.17070094656936616\n",
      "  (4, 19)\t0.2115794233784669\n",
      "  (4, 18)\t0.2115794233784669\n",
      "  (4, 12)\t0.17070094656936616\n",
      "  (4, 10)\t0.42509161710018173\n",
      "  (4, 5)\t0.2115794233784669\n",
      "  (4, 4)\t0.2115794233784669\n",
      "  (4, 0)\t0.2115794233784669\n",
      "['검찰', '고위', '관람', '급', '기대', '김윤옥', '김정숙', '남북', '내외', '단', '대통령', '대표', '동반', '명', '모드', '문', '문재인', '물살', '부인', '아들', '여사', '영부인', '올림픽', '이명박', '이시형', '인터뷰', '장', '전', '차관', '출석', '판', '해빙', '확정', '회담', '후']\n",
      "고위 1\n",
      "급 1\n",
      "남북 2\n",
      "단 1\n",
      "대표 1\n",
      "모드 1\n",
      "물살 1\n",
      "해빙 1\n",
      "확정 1\n",
      "회담 1\n",
      "고위 0.24430917615542821\n",
      "급 0.3028149266649128\n",
      "남북 0.48861835231085643\n",
      "단 0.3028149266649128\n",
      "대표 0.3028149266649128\n",
      "모드 0.3028149266649128\n",
      "물살 0.3028149266649128\n",
      "해빙 0.3028149266649128\n",
      "확정 0.3028149266649128\n",
      "회담 0.24430917615542821\n"
     ]
    }
   ],
   "source": [
    "from sklearn.feature_extraction.text import TfidfTransformer\n",
    "tfidf = TfidfTransformer()\n",
    "tdm2 = tfidf.fit_transform(tdm)\n",
    "words = cv.get_feature_names()\n",
    "print(tdm2)\n",
    "print(words)\n",
    "for i, n in sorted(zip(tdm[0].indices, tdm[0].data)):\n",
    "    print(words[i], n)\n",
    "for i, n in sorted(zip(tdm2[0].indices, tdm2[0].data)):\n",
    "    print(words[i], n)"
   ]
  },
  {
   "cell_type": "code",
   "execution_count": 17,
   "metadata": {},
   "outputs": [
    {
     "data": {
      "text/plain": [
       "array([1, 1, 2, 1, 1, 1, 1, 1, 1, 1], dtype=int64)"
      ]
     },
     "execution_count": 17,
     "metadata": {},
     "output_type": "execute_result"
    }
   ],
   "source": [
    "tdm[0].data"
   ]
  },
  {
   "cell_type": "code",
   "execution_count": 16,
   "metadata": {},
   "outputs": [
    {
     "data": {
      "text/plain": [
       "[(1, 1),\n",
       " (3, 1),\n",
       " (7, 2),\n",
       " (9, 1),\n",
       " (11, 1),\n",
       " (14, 1),\n",
       " (17, 1),\n",
       " (31, 1),\n",
       " (32, 1),\n",
       " (33, 1)]"
      ]
     },
     "execution_count": 16,
     "metadata": {},
     "output_type": "execute_result"
    }
   ],
   "source": [
    "sorted(zip(tdm[0].indices, tdm[0].data))"
   ]
  },
  {
   "cell_type": "code",
   "execution_count": 14,
   "metadata": {},
   "outputs": [
    {
     "name": "stdout",
     "output_type": "stream",
     "text": [
      "[ 1  3  7  9 11 14 17 31 32 33]\n",
      "[1 1 2 1 1 1 1 1 1 1]\n"
     ]
    }
   ],
   "source": [
    "print(tdm[0].indices)\n",
    "print(tdm[0].data)"
   ]
  },
  {
   "cell_type": "code",
   "execution_count": 15,
   "metadata": {},
   "outputs": [
    {
     "data": {
      "text/plain": [
       "['검찰',\n",
       " '고위',\n",
       " '관람',\n",
       " '급',\n",
       " '기대',\n",
       " '김윤옥',\n",
       " '김정숙',\n",
       " '남북',\n",
       " '내외',\n",
       " '단',\n",
       " '대통령',\n",
       " '대표',\n",
       " '동반',\n",
       " '명',\n",
       " '모드',\n",
       " '문',\n",
       " '문재인',\n",
       " '물살',\n",
       " '부인',\n",
       " '아들',\n",
       " '여사',\n",
       " '영부인',\n",
       " '올림픽',\n",
       " '이명박',\n",
       " '이시형',\n",
       " '인터뷰',\n",
       " '장',\n",
       " '전',\n",
       " '차관',\n",
       " '출석',\n",
       " '판',\n",
       " '해빙',\n",
       " '확정',\n",
       " '회담',\n",
       " '후']"
      ]
     },
     "execution_count": 15,
     "metadata": {},
     "output_type": "execute_result"
    }
   ],
   "source": [
    "words"
   ]
  }
 ],
 "metadata": {
  "kernelspec": {
   "display_name": "Python 3",
   "language": "python",
   "name": "python3"
  },
  "language_info": {
   "codemirror_mode": {
    "name": "ipython",
    "version": 3
   },
   "file_extension": ".py",
   "mimetype": "text/x-python",
   "name": "python",
   "nbconvert_exporter": "python",
   "pygments_lexer": "ipython3",
   "version": "3.7.3"
  }
 },
 "nbformat": 4,
 "nbformat_minor": 2
}
