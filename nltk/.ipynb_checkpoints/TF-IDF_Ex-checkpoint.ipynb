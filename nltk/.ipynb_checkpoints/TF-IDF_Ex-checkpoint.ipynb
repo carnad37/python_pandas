{
 "cells": [
  {
   "cell_type": "code",
   "execution_count": null,
   "metadata": {},
   "outputs": [],
   "source": [
    "import pandas as pd\n",
    "\n",
    "\n",
    "text = [\n",
    "    '남북 고위급회담 대표단 확정..남북 해빙모드 급물살',\n",
    "    '[남북 고위급 회담]장차관만 6명..판 커지는 올림픽 회담',\n",
    "    \n",
    "    '문재인 대통령과 대통령의 영부인 김정숙여사 내외의 동반 1987 관람 후 인터뷰',\n",
    "    '1987 본 문 대통령..\"그런다고 바뀌나? 함께 하면 바뀐다\"',\n",
    "    \n",
    "    '이명박 전 대통령과 전 대통령의 부인 김윤옥 여사, 그리고 전 대통령의 아들 이시형씨의 동반 검찰출석이 기대됨'\n",
    "]\n",
    " "
   ]
  },
  {
   "cell_type": "code",
   "execution_count": null,
   "metadata": {},
   "outputs": [],
   "source": []
  }
 ],
 "metadata": {
  "kernelspec": {
   "display_name": "Python 3",
   "language": "python",
   "name": "python3"
  },
  "language_info": {
   "codemirror_mode": {
    "name": "ipython",
    "version": 3
   },
   "file_extension": ".py",
   "mimetype": "text/x-python",
   "name": "python",
   "nbconvert_exporter": "python",
   "pygments_lexer": "ipython3",
   "version": "3.7.1"
  }
 },
 "nbformat": 4,
 "nbformat_minor": 2
}
