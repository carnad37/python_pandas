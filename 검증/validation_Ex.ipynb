{
 "cells": [
  {
   "cell_type": "code",
   "execution_count": null,
   "metadata": {},
   "outputs": [],
   "source": [
    "import numpy as np\n",
    "#\n",
    "from sklearn.model_selection import train_test_split\n",
    "from sklearn.model_selection import KFold\n",
    "from sklearn.model_selection import RepeatedKFold\n",
    "from sklearn.model_selection import LeaveOneOut\n",
    "from sklearn.model_selection import LeavePOut\n",
    "from sklearn.model_selection import GroupKFold\n",
    "from sklearn.model_selection import ShuffleSplit\n",
    "\n"
   ]
  },
  {
   "cell_type": "markdown",
   "metadata": {},
   "source": [
    "# train_test_split"
   ]
  },
  {
   "cell_type": "code",
   "execution_count": 1,
   "metadata": {},
   "outputs": [
    {
     "name": "stdout",
     "output_type": "stream",
     "text": [
      "1.0\n"
     ]
    },
    {
     "data": {
      "text/plain": [
       "array([0, 0, 1])"
      ]
     },
     "execution_count": 1,
     "metadata": {},
     "output_type": "execute_result"
    }
   ],
   "source": [
    "import numpy as np\n",
    "from sklearn.linear_model import LogisticRegression\n",
    "from sklearn.model_selection import train_test_split\n",
    "from sklearn.metrics import accuracy_score\n",
    "\n",
    "x_data = np.array([\n",
    "[2,1],\n",
    "[3,2],\n",
    "[3,4],\n",
    "[5,5],\n",
    "[7,5],\n",
    "[2,5],\n",
    "[9,2]\n",
    "])\n",
    "y_data = np.array([0,0,0,1,1,0,1]) \n",
    "\n",
    "x_train, x_test, y_train, y_test = train_test_split(x_data, y_data, test_size=0.3)\n",
    "\n",
    "logreg = LogisticRegression(solver='lbfgs', multi_class='auto')\n",
    "# logreg = LogisticRegression()\n",
    "clf =logreg.fit(x_train,y_train)\n",
    "y_predict = clf.predict(x_test) \n",
    "\n",
    "score = accuracy_score(y_test, y_predict)\n",
    "print(score)\n",
    "y_predict\n"
   ]
  },
  {
   "cell_type": "markdown",
   "metadata": {},
   "source": [
    "# cross_val_score"
   ]
  },
  {
   "cell_type": "code",
   "execution_count": 56,
   "metadata": {},
   "outputs": [
    {
     "name": "stdout",
     "output_type": "stream",
     "text": [
      "교차 검증 점수: [0.66666667 1.         1.        ]\n"
     ]
    },
    {
     "name": "stderr",
     "output_type": "stream",
     "text": [
      "C:\\Users\\User\\Anaconda3\\lib\\site-packages\\sklearn\\model_selection\\_split.py:2053: FutureWarning: You should specify a value for 'cv' instead of relying on the default value. The default value will change from 3 to 5 in version 0.22.\n",
      "  warnings.warn(CV_WARNING, FutureWarning)\n"
     ]
    }
   ],
   "source": [
    "import numpy as np\n",
    "from sklearn.model_selection import StratifiedKFold\n",
    "from sklearn.model_selection import cross_val_score\n",
    "from sklearn.linear_model import LogisticRegression\n",
    "\n",
    "x_data = np.array([\n",
    "[2,1],\n",
    "[3,2],\n",
    "[3,4],\n",
    "[5,5],\n",
    "[7,5],\n",
    "[2,5],\n",
    "[9,2]\n",
    "])\n",
    "y_data = np.array([0,0,0,1,1,0,1]) \n",
    "\n",
    "\n",
    "logreg = LogisticRegression(solver='lbfgs', multi_class='auto')\n",
    "#KFold: 3개 분할 => 3번 교차 \n",
    "\n",
    "scores = cross_val_score(logreg, x_data, y_data)\n",
    "print(\"교차 검증 점수:\", scores)"
   ]
  },
  {
   "cell_type": "markdown",
   "metadata": {},
   "source": [
    "# KFold"
   ]
  },
  {
   "cell_type": "code",
   "execution_count": 57,
   "metadata": {},
   "outputs": [
    {
     "name": "stdout",
     "output_type": "stream",
     "text": [
      "교차 검증 점수:\n",
      " [1. 0. 1.]\n"
     ]
    },
    {
     "name": "stderr",
     "output_type": "stream",
     "text": [
      "C:\\Users\\User\\Anaconda3\\lib\\site-packages\\sklearn\\model_selection\\_split.py:426: FutureWarning: You should specify a value for 'n_splits' instead of relying on the default value. The default value will change from 3 to 5 in version 0.22.\n",
      "  warnings.warn(NSPLIT_WARNING, FutureWarning)\n"
     ]
    }
   ],
   "source": [
    "import numpy as np\n",
    "from sklearn.model_selection import KFold\n",
    "from sklearn.model_selection import cross_val_score\n",
    "from sklearn.linear_model import LogisticRegression\n",
    "\n",
    "x_data = np.array([\n",
    "[2,1],\n",
    "[3,2],\n",
    "[3,4],\n",
    "[5,5],\n",
    "[7,5],\n",
    "[2,5],\n",
    "[9,2]\n",
    "])\n",
    "y_data = np.array([0,0,0,1,1,0,1]) \n",
    "\n",
    "\n",
    "logreg = LogisticRegression(solver='lbfgs', multi_class='auto')\n",
    "#KFold: 3개 분할 => 3번 교차 \n",
    "kf = KFold() \n",
    "print(\"교차 검증 점수:\\n\",cross_val_score(logreg, x_data, y_data, cv=kf))\n"
   ]
  },
  {
   "cell_type": "markdown",
   "metadata": {},
   "source": [
    "# StratifiedKFold"
   ]
  },
  {
   "cell_type": "code",
   "execution_count": 60,
   "metadata": {
    "scrolled": true
   },
   "outputs": [
    {
     "name": "stdout",
     "output_type": "stream",
     "text": [
      "교차 검증 점수: [0.66666667 1.         1.        ]\n"
     ]
    }
   ],
   "source": [
    "import numpy as np\n",
    "from sklearn.model_selection import StratifiedKFold\n",
    "from sklearn.model_selection import cross_val_score\n",
    "from sklearn.linear_model import LogisticRegression\n",
    "\n",
    "x_data = np.array([\n",
    "[2,1],\n",
    "[3,2],\n",
    "[3,4],\n",
    "[5,5],\n",
    "[7,5],\n",
    "[2,5],\n",
    "[9,2]\n",
    "])\n",
    "y_data = np.array([0,0,0,1,1,0,1]) \n",
    "\n",
    "logreg = LogisticRegression(solver='lbfgs', multi_class='auto')\n",
    "#3개 분할 => 3번 교차 \n",
    "skf = StratifiedKFold(n_splits=3)\n",
    "\n",
    "scores = cross_val_score(logreg, x_data, y_data, cv=skf)\n",
    "print(\"교차 검증 점수:\", scores)"
   ]
  },
  {
   "cell_type": "markdown",
   "metadata": {},
   "source": [
    "# KFold with shuffle"
   ]
  },
  {
   "cell_type": "code",
   "execution_count": 61,
   "metadata": {},
   "outputs": [
    {
     "name": "stdout",
     "output_type": "stream",
     "text": [
      "교차 검증 점수:\n",
      " [1.  0.5 1. ]\n"
     ]
    },
    {
     "name": "stderr",
     "output_type": "stream",
     "text": [
      "C:\\Users\\User\\Anaconda3\\lib\\site-packages\\sklearn\\model_selection\\_split.py:426: FutureWarning: You should specify a value for 'n_splits' instead of relying on the default value. The default value will change from 3 to 5 in version 0.22.\n",
      "  warnings.warn(NSPLIT_WARNING, FutureWarning)\n"
     ]
    }
   ],
   "source": [
    "import numpy as np\n",
    "from sklearn.model_selection import StratifiedKFold\n",
    "from sklearn.model_selection import cross_val_score\n",
    "from sklearn.linear_model import LogisticRegression\n",
    "\n",
    "x_data = np.array([\n",
    "[2,1],\n",
    "[3,2],\n",
    "[3,4],\n",
    "[5,5],\n",
    "[7,5],\n",
    "[2,5],\n",
    "[9,2]\n",
    "])\n",
    "y_data = np.array([0,0,0,1,1,0,1]) \n",
    "\n",
    "\n",
    "logreg = LogisticRegression(solver='lbfgs', multi_class='auto')\n",
    "\n",
    "#KFold: 3개 분할 => 3번 교차 \n",
    "# 랜덤하게 섞기\n",
    "kf = KFold(shuffle=True, random_state=0) \n",
    "print(\"교차 검증 점수:\\n\",cross_val_score(logreg, x_data, y_data, cv=kf))\n"
   ]
  },
  {
   "cell_type": "markdown",
   "metadata": {},
   "source": [
    "# LOOCV(Leave-One-Out cross-validation)\n"
   ]
  },
  {
   "cell_type": "code",
   "execution_count": 64,
   "metadata": {},
   "outputs": [
    {
     "name": "stdout",
     "output_type": "stream",
     "text": [
      "교차 검증 점수:\n",
      " [1. 1. 1. 0. 1. 1. 1.]\n"
     ]
    }
   ],
   "source": [
    "\n",
    "import numpy as np\n",
    "from sklearn.model_selection import StratifiedKFold\n",
    "from sklearn.model_selection import cross_val_score\n",
    "from sklearn.linear_model import LogisticRegression\n",
    "\n",
    "x_data = np.array([\n",
    "[2,1],\n",
    "[3,2],\n",
    "[3,4],\n",
    "[5,5],\n",
    "[7,5],\n",
    "[2,5],\n",
    "[9,2]\n",
    "])\n",
    "y_data = np.array([0,0,0,1,1,0,1]) \n",
    "\n",
    "\n",
    "logreg = LogisticRegression(solver='lbfgs', multi_class='auto')\n",
    "\n",
    "\n",
    "loovc = LeaveOneOut() #하나 나머지 분할 => 데이터 수만큼 교차\n",
    "\n",
    "print(\"교차 검증 점수:\\n\",cross_val_score(logreg, x_data, y_data, cv=loovc))\n",
    "\n",
    "\n"
   ]
  }
 ],
 "metadata": {
  "kernelspec": {
   "display_name": "Python 3",
   "language": "python",
   "name": "python3"
  },
  "language_info": {
   "codemirror_mode": {
    "name": "ipython",
    "version": 3
   },
   "file_extension": ".py",
   "mimetype": "text/x-python",
   "name": "python",
   "nbconvert_exporter": "python",
   "pygments_lexer": "ipython3",
   "version": "3.7.1"
  }
 },
 "nbformat": 4,
 "nbformat_minor": 2
}
