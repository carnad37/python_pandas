{
 "cells": [
  {
   "cell_type": "code",
   "execution_count": 1,
   "metadata": {},
   "outputs": [
    {
     "name": "stdout",
     "output_type": "stream",
     "text": [
      "(7, 2)\n",
      "(7,)\n",
      "1.0\n",
      "0.0\n",
      "0.6666666666666666\n"
     ]
    }
   ],
   "source": [
    "import numpy as np\n",
    "#\n",
    "from sklearn.model_selection import train_test_split\n",
    "from sklearn.neighbors import KNeighborsClassifier\n",
    "from sklearn.metrics import accuracy_score\n",
    "\n",
    "x_data = np.array([\n",
    "[2,1],\n",
    "[3,2],\n",
    "[3,4],\n",
    "[5,5],\n",
    "[7,5],\n",
    "[2,5],\n",
    "[9,2]\n",
    "])\n",
    "y_data = np.array([0,0,0,1,1,0,1]) \n",
    "print(x_data.shape) #(6, 2)\n",
    "print(y_data.shape) #(6,)\n",
    "\n",
    "x_train, x_test, y_train, y_test = train_test_split(x_data, y_data, test_size=0.3)\n",
    "x_train, x_validation, y_train, y_validation = train_test_split(x_train, y_train, test_size=0.3)\n",
    "\n",
    "estimator = KNeighborsClassifier(n_neighbors=2, metric='minkowski', weights='uniform')\n",
    "\n",
    "estimator.fit(x_train, y_train)\n",
    "\n",
    "y_predict = estimator.predict(x_train) #train\n",
    "score = accuracy_score(y_train, y_predict)\n",
    "print(score) #1.0\n",
    "\n",
    "y_predict = estimator.predict(x_validation) #validation\n",
    "score = accuracy_score(y_validation, y_predict)\n",
    "print(score) #1.0\n",
    "\n",
    "y_predict = estimator.predict(x_test) #test\n",
    "score = accuracy_score(y_test, y_predict)\n",
    "print(score) #1.0"
   ]
  }
 ],
 "metadata": {
  "kernelspec": {
   "display_name": "Python 3",
   "language": "python",
   "name": "python3"
  },
  "language_info": {
   "codemirror_mode": {
    "name": "ipython",
    "version": 3
   },
   "file_extension": ".py",
   "mimetype": "text/x-python",
   "name": "python",
   "nbconvert_exporter": "python",
   "pygments_lexer": "ipython3",
   "version": "3.7.3"
  }
 },
 "nbformat": 4,
 "nbformat_minor": 2
}
