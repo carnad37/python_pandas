{
 "cells": [
  {
   "cell_type": "code",
   "execution_count": 2,
   "metadata": {},
   "outputs": [
    {
     "data": {
      "text/html": [
       "<div>\n",
       "<style scoped>\n",
       "    .dataframe tbody tr th:only-of-type {\n",
       "        vertical-align: middle;\n",
       "    }\n",
       "\n",
       "    .dataframe tbody tr th {\n",
       "        vertical-align: top;\n",
       "    }\n",
       "\n",
       "    .dataframe thead th {\n",
       "        text-align: right;\n",
       "    }\n",
       "</style>\n",
       "<table border=\"1\" class=\"dataframe\">\n",
       "  <thead>\n",
       "    <tr style=\"text-align: right;\">\n",
       "      <th></th>\n",
       "      <th>earn</th>\n",
       "      <th>ed</th>\n",
       "      <th>age</th>\n",
       "    </tr>\n",
       "  </thead>\n",
       "  <tbody>\n",
       "    <tr>\n",
       "      <th>0</th>\n",
       "      <td>79571.299010</td>\n",
       "      <td>16</td>\n",
       "      <td>49</td>\n",
       "    </tr>\n",
       "    <tr>\n",
       "      <th>1</th>\n",
       "      <td>96396.988640</td>\n",
       "      <td>16</td>\n",
       "      <td>62</td>\n",
       "    </tr>\n",
       "    <tr>\n",
       "      <th>2</th>\n",
       "      <td>48710.666950</td>\n",
       "      <td>16</td>\n",
       "      <td>33</td>\n",
       "    </tr>\n",
       "    <tr>\n",
       "      <th>3</th>\n",
       "      <td>80478.096150</td>\n",
       "      <td>16</td>\n",
       "      <td>95</td>\n",
       "    </tr>\n",
       "    <tr>\n",
       "      <th>4</th>\n",
       "      <td>82089.345500</td>\n",
       "      <td>17</td>\n",
       "      <td>43</td>\n",
       "    </tr>\n",
       "    <tr>\n",
       "      <th>5</th>\n",
       "      <td>15313.352900</td>\n",
       "      <td>15</td>\n",
       "      <td>30</td>\n",
       "    </tr>\n",
       "    <tr>\n",
       "      <th>6</th>\n",
       "      <td>47104.171820</td>\n",
       "      <td>12</td>\n",
       "      <td>53</td>\n",
       "    </tr>\n",
       "    <tr>\n",
       "      <th>7</th>\n",
       "      <td>50960.054280</td>\n",
       "      <td>17</td>\n",
       "      <td>50</td>\n",
       "    </tr>\n",
       "    <tr>\n",
       "      <th>8</th>\n",
       "      <td>3212.649556</td>\n",
       "      <td>15</td>\n",
       "      <td>25</td>\n",
       "    </tr>\n",
       "    <tr>\n",
       "      <th>9</th>\n",
       "      <td>42996.637880</td>\n",
       "      <td>12</td>\n",
       "      <td>30</td>\n",
       "    </tr>\n",
       "  </tbody>\n",
       "</table>\n",
       "</div>"
      ],
      "text/plain": [
       "           earn  ed  age\n",
       "0  79571.299010  16   49\n",
       "1  96396.988640  16   62\n",
       "2  48710.666950  16   33\n",
       "3  80478.096150  16   95\n",
       "4  82089.345500  17   43\n",
       "5  15313.352900  15   30\n",
       "6  47104.171820  12   53\n",
       "7  50960.054280  17   50\n",
       "8   3212.649556  15   25\n",
       "9  42996.637880  12   30"
      ]
     },
     "execution_count": 2,
     "metadata": {},
     "output_type": "execute_result"
    }
   ],
   "source": [
    "import pandas as pd\n",
    "import numpy as np\n",
    "from sklearn.linear_model import LinearRegression\n",
    "df = pd.read_csv(\"edu_age_earn.csv\")\n",
    "df.head(10)"
   ]
  },
  {
   "cell_type": "code",
   "execution_count": 3,
   "metadata": {},
   "outputs": [
    {
     "data": {
      "text/plain": [
       "0.3503735148904951"
      ]
     },
     "execution_count": 3,
     "metadata": {},
     "output_type": "execute_result"
    }
   ],
   "source": [
    "#1.ed와 earn의 상관계수의 값을 구하세요\n",
    "df.earn.corr(df.ed)"
   ]
  },
  {
   "cell_type": "code",
   "execution_count": 36,
   "metadata": {},
   "outputs": [
    {
     "name": "stdout",
     "output_type": "stream",
     "text": [
      "10세 이하:\n",
      "\t nan\n",
      "11세 이상 20세 이하:\n",
      "\t nan\n",
      "21세 이상 30세 이하:\n",
      "\t 0.3652741439931792\n",
      "31세 이상 40세 이하:\n",
      "\t 0.07795380215248016\n",
      "41세 이상 50세 이하:\n",
      "\t 0.006322851904905083\n",
      "51세 이상 60세 이하:\n",
      "\t -0.05970773482120377\n",
      "61세 이상 70세 이하:\n",
      "\t -0.015805894192433438\n",
      "71세 이상 80세 이하:\n",
      "\t 0.1734428077773377\n",
      "81세 이상 90세 이하:\n",
      "\t 0.09824961228808986\n",
      "91세 이상:\n",
      "\t 0.7506883736902348\n"
     ]
    }
   ],
   "source": [
    "#2.earn과 나이별(0-10, 11-20, 21-30, 31-40)의 상관계수를 구하세요\n",
    "for i in range(0,10):\n",
    "    if i == 0:\n",
    "        print(\"10세 이하:\")\n",
    "        print(\"\\t\",df.age[(df.age <= 10)].corr(df.earn))\n",
    "    elif i == 9:\n",
    "        print(\"91세 이상:\")\n",
    "        print(\"\\t\",df.age[(df.age > 90)].corr(df.earn))\n",
    "    else:\n",
    "        print(\"%d세 이상 %d세 이하:\"%(i*10 + 1, (i + 1)*10))\n",
    "        print(\"\\t\",df.age[(i*10 < df.age) & (df.age <= (i+1)*10)].corr(df.earn))"
   ]
  },
  {
   "cell_type": "code",
   "execution_count": 29,
   "metadata": {},
   "outputs": [
    {
     "data": {
      "text/plain": [
       "array([[39835.26500108],\n",
       "       [44325.96262598],\n",
       "       [48816.66025088],\n",
       "       [53307.35787578],\n",
       "       [57798.05550069],\n",
       "       [62288.75312559]])"
      ]
     },
     "execution_count": 29,
     "metadata": {},
     "output_type": "execute_result"
    }
   ],
   "source": [
    "#3.ed와 earn의 데이터를 이용, 회귀분석을 실시해서 총 교육받은 연수가 15,16,18,19,20년일 경우의 수입을 구하세요.\n",
    "lm = LinearRegression()\n",
    "lm = lm.fit(np.array(df.ed.values).reshape(-1,1), np.array(df.earn.values).reshape(-1,1))\n",
    "newEarn = lm.predict(np.arange(15,21).reshape(-1,1))\n",
    "newEarn"
   ]
  }
 ],
 "metadata": {
  "kernelspec": {
   "display_name": "Python 3",
   "language": "python",
   "name": "python3"
  },
  "language_info": {
   "codemirror_mode": {
    "name": "ipython",
    "version": 3
   },
   "file_extension": ".py",
   "mimetype": "text/x-python",
   "name": "python",
   "nbconvert_exporter": "python",
   "pygments_lexer": "ipython3",
   "version": "3.7.1"
  }
 },
 "nbformat": 4,
 "nbformat_minor": 2
}
