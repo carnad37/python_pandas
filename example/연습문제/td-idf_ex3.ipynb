{
 "cells": [
  {
   "cell_type": "markdown",
   "metadata": {},
   "source": [
    "\n",
    "docs = np.array([\n",
    "        'The sun is shining',\n",
    "        'The weather is sweet',\n",
    "        'The sun is shining and the weather is sweet'])\n",
    "\n",
    "\n",
    "\n",
    "1. 모두 소문자로 변환\n",
    "2. 30개 문자(빈칸 포함)만  출력\n",
    "3. 추출한 Token의 빈도를 출력\n",
    "4. td_idf 값 출력\n"
   ]
  },
  {
   "cell_type": "code",
   "execution_count": 20,
   "metadata": {},
   "outputs": [
    {
     "data": {
      "text/plain": [
       "['The sun is shining apple orange',\n",
       " 'The weather is sweet apple orange',\n",
       " 'The sun is shining and the weather is sweet apple orange']"
      ]
     },
     "execution_count": 20,
     "metadata": {},
     "output_type": "execute_result"
    }
   ],
   "source": [
    "from konlpy.tag import Okt\n",
    "import numpy as np\n",
    "docs = np.array([\n",
    "    'The sun is shining',\n",
    "    'The weather is sweet',\n",
    "    'The sun is shining and the weather is sweet'])\n",
    "\n",
    "tagger = Okt() \n",
    "docs=docs.tolist()\n",
    "type(docs)\n",
    "docs"
   ]
  },
  {
   "cell_type": "markdown",
   "metadata": {},
   "source": [
    "1. 모두 소문자로 변환"
   ]
  },
  {
   "cell_type": "code",
   "execution_count": 21,
   "metadata": {},
   "outputs": [
    {
     "data": {
      "text/plain": [
       "['the sun is shining apple orange',\n",
       " 'the weather is sweet apple orange',\n",
       " 'the sun is shining and the weather is sweet apple orange']"
      ]
     },
     "execution_count": 21,
     "metadata": {},
     "output_type": "execute_result"
    }
   ],
   "source": [
    "docs=list(map(lambda x: x.lower(),docs))\n",
    "docs"
   ]
  },
  {
   "cell_type": "markdown",
   "metadata": {},
   "source": [
    "2. 30개 문자(빈칸 포함)만 출력"
   ]
  },
  {
   "cell_type": "code",
   "execution_count": 22,
   "metadata": {},
   "outputs": [
    {
     "data": {
      "text/plain": [
       "'the sun is shining apple orang'"
      ]
     },
     "execution_count": 22,
     "metadata": {},
     "output_type": "execute_result"
    }
   ],
   "source": [
    "texts =' '.join(docs)\n",
    "texts[:30]"
   ]
  },
  {
   "cell_type": "markdown",
   "metadata": {},
   "source": [
    "3. 추출한 Token의 빈도를 출력"
   ]
  },
  {
   "cell_type": "code",
   "execution_count": 27,
   "metadata": {},
   "outputs": [
    {
     "name": "stdout",
     "output_type": "stream",
     "text": [
      "['the sun is shining apple orange', 'the weather is sweet apple orange', 'the sun is shining and the weather is sweet apple orange']\n"
     ]
    },
    {
     "name": "stderr",
     "output_type": "stream",
     "text": [
      "C:\\Users\\User\\Anaconda3\\lib\\site-packages\\pandas\\core\\dtypes\\dtypes.py:458: FutureWarning: elementwise comparison failed; returning scalar instead, but in the future will perform elementwise comparison\n",
      "  if string == 'category':\n"
     ]
    },
    {
     "data": {
      "text/html": [
       "<div>\n",
       "<style scoped>\n",
       "    .dataframe tbody tr th:only-of-type {\n",
       "        vertical-align: middle;\n",
       "    }\n",
       "\n",
       "    .dataframe tbody tr th {\n",
       "        vertical-align: top;\n",
       "    }\n",
       "\n",
       "    .dataframe thead th {\n",
       "        text-align: right;\n",
       "    }\n",
       "</style>\n",
       "<table border=\"1\" class=\"dataframe\">\n",
       "  <thead>\n",
       "    <tr style=\"text-align: right;\">\n",
       "      <th></th>\n",
       "      <th>단어</th>\n",
       "      <th>빈도</th>\n",
       "    </tr>\n",
       "  </thead>\n",
       "  <tbody>\n",
       "    <tr>\n",
       "      <th>2</th>\n",
       "      <td>is</td>\n",
       "      <td>4</td>\n",
       "    </tr>\n",
       "    <tr>\n",
       "      <th>7</th>\n",
       "      <td>the</td>\n",
       "      <td>4</td>\n",
       "    </tr>\n",
       "    <tr>\n",
       "      <th>1</th>\n",
       "      <td>apple</td>\n",
       "      <td>3</td>\n",
       "    </tr>\n",
       "    <tr>\n",
       "      <th>3</th>\n",
       "      <td>orange</td>\n",
       "      <td>3</td>\n",
       "    </tr>\n",
       "    <tr>\n",
       "      <th>4</th>\n",
       "      <td>shining</td>\n",
       "      <td>2</td>\n",
       "    </tr>\n",
       "    <tr>\n",
       "      <th>5</th>\n",
       "      <td>sun</td>\n",
       "      <td>2</td>\n",
       "    </tr>\n",
       "    <tr>\n",
       "      <th>6</th>\n",
       "      <td>sweet</td>\n",
       "      <td>2</td>\n",
       "    </tr>\n",
       "    <tr>\n",
       "      <th>8</th>\n",
       "      <td>weather</td>\n",
       "      <td>2</td>\n",
       "    </tr>\n",
       "    <tr>\n",
       "      <th>0</th>\n",
       "      <td>and</td>\n",
       "      <td>1</td>\n",
       "    </tr>\n",
       "  </tbody>\n",
       "</table>\n",
       "</div>"
      ],
      "text/plain": [
       "        단어  빈도\n",
       "2       is   4\n",
       "7      the   4\n",
       "1    apple   3\n",
       "3   orange   3\n",
       "4  shining   2\n",
       "5      sun   2\n",
       "6    sweet   2\n",
       "8  weather   2\n",
       "0      and   1"
      ]
     },
     "execution_count": 27,
     "metadata": {},
     "output_type": "execute_result"
    }
   ],
   "source": [
    "from sklearn.feature_extraction.text import CountVectorizer\n",
    "import pandas as pd\n",
    "cv = CountVectorizer()\n",
    "print(docs)\n",
    "tdm = cv.fit_transform(docs)\n",
    "word_count  = pd.DataFrame(\n",
    "    {'단어': cv.get_feature_names(),\n",
    "     '빈도': tdm.sum(axis=0).flat\n",
    "    }\n",
    ")\n",
    "word_count.sort_values('빈도', ascending=False)"
   ]
  },
  {
   "cell_type": "markdown",
   "metadata": {},
   "source": [
    "4. td_idf 값 출력"
   ]
  },
  {
   "cell_type": "code",
   "execution_count": 31,
   "metadata": {},
   "outputs": [
    {
     "name": "stdout",
     "output_type": "stream",
     "text": [
      "{'the': 7, 'sun': 5, 'is': 2, 'shining': 4, 'apple': 1, 'orange': 3, 'weather': 8, 'sweet': 6, 'and': 0}\n"
     ]
    },
    {
     "data": {
      "text/plain": [
       "array([[0.        , 0.36970534, 0.36970534, 0.36970534, 0.47606294,\n",
       "        0.47606294, 0.        , 0.36970534, 0.        ],\n",
       "       [0.        , 0.36970534, 0.36970534, 0.36970534, 0.        ,\n",
       "        0.        , 0.47606294, 0.36970534, 0.47606294],\n",
       "       [0.38342973, 0.22645977, 0.45291955, 0.22645977, 0.29160819,\n",
       "        0.29160819, 0.29160819, 0.45291955, 0.29160819]])"
      ]
     },
     "execution_count": 31,
     "metadata": {},
     "output_type": "execute_result"
    }
   ],
   "source": [
    "from sklearn.feature_extraction.text import TfidfVectorizer\n",
    "tfidf_vectorizer = TfidfVectorizer()\n",
    "tdm=tfidf_vectorizer.fit_transform(docs)\n",
    "# 3. 추출한 Token의 빈도를 출력\n",
    "print(tfidf_vectorizer.vocabulary_) \n",
    "#td_idf 값 출력\n",
    "tdm.toarray()\n",
    "# sentence = [text_data[3]] # ['점심 먹고 공부 해야지']\n",
    "# print(tfidf_vectorizer.transform(text_data).toarray())"
   ]
  }
 ],
 "metadata": {
  "kernelspec": {
   "display_name": "Python 3",
   "language": "python",
   "name": "python3"
  },
  "language_info": {
   "codemirror_mode": {
    "name": "ipython",
    "version": 3
   },
   "file_extension": ".py",
   "mimetype": "text/x-python",
   "name": "python",
   "nbconvert_exporter": "python",
   "pygments_lexer": "ipython3",
   "version": "3.7.3"
  }
 },
 "nbformat": 4,
 "nbformat_minor": 2
}
