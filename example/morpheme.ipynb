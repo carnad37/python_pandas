{
 "cells": [
  {
   "cell_type": "markdown",
   "metadata": {},
   "source": [
    "# 영어"
   ]
  },
  {
   "cell_type": "code",
   "execution_count": null,
   "metadata": {},
   "outputs": [],
   "source": [
    "my_text = \"The sexy job in the next 10 years will be statisticians. People think I'm joking, but who would've guessed that computer engineers would've been the sexy job of the 1990s?\"\n",
    "simple_tokens = my_text.split(' ')\n",
    "print (simple_tokens)"
   ]
  },
  {
   "cell_type": "code",
   "execution_count": 21,
   "metadata": {},
   "outputs": [],
   "source": [
    "# nltk.download('all')"
   ]
  },
  {
   "cell_type": "markdown",
   "metadata": {},
   "source": [
    "## 단어 토큰화"
   ]
  },
  {
   "cell_type": "code",
   "execution_count": 11,
   "metadata": {},
   "outputs": [
    {
     "name": "stdout",
     "output_type": "stream",
     "text": [
      "['The', 'sexy', 'job', 'in', 'the', 'next', '10', 'years', 'will', 'be', 'statisticians', '.', 'People', 'think', 'I', \"'m\", 'joking', ',', 'but', 'who', 'would', \"'ve\", 'guessed', 'that', 'computer', 'engineers', 'would', \"'ve\", 'been', 'the', 'sexy', 'job', 'of', 'the', '1990s', '?']\n"
     ]
    }
   ],
   "source": [
    "import nltk\n",
    "\n",
    "nltk_tokens = nltk.word_tokenize(my_text)\n",
    "print (nltk_tokens)"
   ]
  },
  {
   "cell_type": "code",
   "execution_count": 22,
   "metadata": {},
   "outputs": [
    {
     "name": "stderr",
     "output_type": "stream",
     "text": [
      "[nltk_data] Downloading package averaged_perceptron_tagger to\n",
      "[nltk_data]     C:\\Users\\Administrator\\AppData\\Roaming\\nltk_data...\n",
      "[nltk_data]   Package averaged_perceptron_tagger is already up-to-\n",
      "[nltk_data]       date!\n"
     ]
    },
    {
     "data": {
      "text/plain": [
       "True"
      ]
     },
     "execution_count": 22,
     "metadata": {},
     "output_type": "execute_result"
    }
   ],
   "source": [
    "nltk.download(\"averaged_perceptron_tagger\")"
   ]
  },
  {
   "cell_type": "code",
   "execution_count": 23,
   "metadata": {},
   "outputs": [
    {
     "name": "stdout",
     "output_type": "stream",
     "text": [
      "[('The', 'DT'), ('sexy', 'JJ'), ('job', 'NN'), ('in', 'IN'), ('the', 'DT'), ('next', 'JJ'), ('10', 'CD'), ('years', 'NNS'), ('will', 'MD'), ('be', 'VB'), ('statisticians', 'NNS'), ('.', '.'), ('People', 'NNS'), ('think', 'VBP'), ('I', 'PRP'), (\"'m\", 'VBP'), ('joking', 'VBG'), (',', ','), ('but', 'CC'), ('who', 'WP'), ('would', 'MD'), (\"'ve\", 'VBP'), ('guessed', 'VBN'), ('that', 'IN'), ('computer', 'NN'), ('engineers', 'NNS'), ('would', 'MD'), (\"'ve\", 'VBP'), ('been', 'VBN'), ('the', 'DT'), ('sexy', 'JJ'), ('job', 'NN'), ('of', 'IN'), ('the', 'DT'), ('1990s', 'CD'), ('?', '.')]\n"
     ]
    }
   ],
   "source": [
    "print (nltk.pos_tag(nltk_tokens))"
   ]
  },
  {
   "cell_type": "markdown",
   "metadata": {},
   "source": [
    "## 단어 태깅"
   ]
  },
  {
   "cell_type": "code",
   "execution_count": 20,
   "metadata": {},
   "outputs": [
    {
     "name": "stdout",
     "output_type": "stream",
     "text": [
      "(S\n",
      "  (PERSON Elvis/NNP)\n",
      "  (PERSON Aaron/NNP Presley/NNP)\n",
      "  was/VBD\n",
      "  an/DT\n",
      "  (GPE American/JJ)\n",
      "  singer/NN\n",
      "  and/CC\n",
      "  actor/NN\n",
      "  ./.\n",
      "  Born/VBN\n",
      "  in/IN\n",
      "  (GPE Tupelo/NNP)\n",
      "  ,/,\n",
      "  (GPE Mississippi/NNP)\n",
      "  ,/,\n",
      "  when/WRB\n",
      "  (PERSON Presley/NNP)\n",
      "  was/VBD\n",
      "  13/CD\n",
      "  years/NNS\n",
      "  old/JJ\n",
      "  he/PRP\n",
      "  and/CC\n",
      "  his/PRP$\n",
      "  family/NN\n",
      "  relocated/VBD\n",
      "  to/TO\n",
      "  (GPE Memphis/NNP)\n",
      "  ,/,\n",
      "  (GPE Tennessee/NNP)\n",
      "  ./.)\n"
     ]
    }
   ],
   "source": [
    "text = \"Elvis Aaron Presley was an American singer and actor. Born in Tupelo, Mississippi, when Presley was 13 years old he and his family relocated to Memphis, Tennessee.\"\n",
    "chunks = nltk.ne_chunk(nltk.pos_tag(nltk.word_tokenize(text)))\n",
    "print (chunks)"
   ]
  },
  {
   "cell_type": "markdown",
   "metadata": {},
   "source": [
    "## 불용어 처리(stopword)"
   ]
  },
  {
   "cell_type": "code",
   "execution_count": 1,
   "metadata": {},
   "outputs": [
    {
     "name": "stdout",
     "output_type": "stream",
     "text": [
      "frozenset({'myself', 'afterwards', 'not', 'back', 'last', 'top', 'hereafter', 'indeed', 'mill', 'and', 'please', 'even', 'has', 'it', 'fill', 'rather', 'those', 're', 'few', 'whom', 'whereas', 'anywhere', 'still', 'become', 'already', 'her', 'bill', 'what', 'becoming', 'thick', 'do', 'always', 'ten', 'often', 'though', 'seem', 'per', 'another', 'as', 'further', 'while', 'noone', 'or', 'other', 'thereafter', 'hundred', 'full', 'wherever', 'seemed', 'can', 'of', 'whence', 'will', 'both', 'front', 'everywhere', 'anyone', 'find', 'his', 'i', 'why', 'never', 'under', 'ie', 'although', 'four', 'now', 'con', 'is', 'again', 'they', 'also', 'this', 'nevertheless', 'six', 'been', 'their', 'detail', 'anyhow', 'nor', 'ever', 'each', 'without', 'own', 'whereupon', 'therein', 'mostly', 'him', 'three', 'across', 'first', 'me', 'upon', 'thence', 'could', 'must', 'being', 'he', 'thereby', 'otherwise', 'many', 'above', 'eleven', 'toward', 'in', 'am', 'its', 'show', 'empty', 'our', 'since', 'up', 'beside', 'un', 'beforehand', 'give', 'twenty', 'too', 'with', 'either', 'cry', 'before', 'fifteen', 'whole', 'cant', 'seems', 'we', 'call', 'between', 'done', 'through', 'nowhere', 'becomes', 'who', 'keep', 'latter', 'namely', 'de', 'enough', 'well', 'put', 'nobody', 'itself', 'because', 'should', 'be', 'besides', 'such', 'that', 'my', 'no', 'ourselves', 'same', 'onto', 'themselves', 'via', 'have', 'had', 'hence', 'might', 'where', 'fire', 'during', 'whose', 'but', 'was', 'then', 'once', 'name', 'next', 'into', 'until', 'former', 'inc', 'within', 'interest', 'get', 'thus', 'towards', 'co', 'meanwhile', 'several', 'an', 'sometimes', 'beyond', 'against', 'eight', 'for', 'from', 'which', 'were', 'us', 'somewhere', 'therefore', 'them', 'than', 'five', 'elsewhere', 'thereupon', 'how', 'hereupon', 'by', 'something', 'around', 'sixty', 'yours', 'after', 'else', 'these', 'less', 'serious', 'latterly', 'would', 'some', 'hereby', 'somehow', 'ltd', 'alone', 'every', 'any', 'forty', 'others', 'perhaps', 'below', 'amongst', 'anything', 'go', 'whenever', 'sometime', 'due', 'most', 'if', 'the', 'you', 'found', 'take', 'bottom', 'least', 'etc', 'amount', 'mine', 'seeming', 'hasnt', 'only', 'herein', 'side', 'whoever', 'except', 'twelve', 'yourself', 'whither', 'about', 'eg', 'moreover', 'two', 'ours', 'made', 'one', 'nine', 'everyone', 'formerly', 'on', 'at', 'wherein', 'fifty', 'she', 'there', 'whereby', 'describe', 'to', 'may', 'are', 'more', 'together', 'anyway', 'cannot', 'out', 'down', 'system', 'however', 'none', 'amoungst', 'hers', 'move', 'third', 'off', 'neither', 'part', 'along', 'couldnt', 'a', 'very', 'whether', 'himself', 'sincere', 'when', 'much', 'nothing', 'someone', 'see', 'yourselves', 'yet', 'herself', 'almost', 'so', 'all', 'thin', 'whereafter', 'became', 'behind', 'among', 'your', 'whatever', 'throughout', 'here', 'everything', 'over', 'thru'})\n"
     ]
    }
   ],
   "source": [
    "from sklearn.feature_extraction import text\n",
    "stop_words = text.ENGLISH_STOP_WORDS\n",
    "print (stop_words)"
   ]
  },
  {
   "cell_type": "markdown",
   "metadata": {},
   "source": [
    "# 한글"
   ]
  },
  {
   "cell_type": "markdown",
   "metadata": {},
   "source": [
    "## konlpy설치\n",
    "\n",
    "conda update pip  \n",
    "pip install JPype1-0.6.3-cp37-cp37m-win_amd64.whl  \n",
    "pip install konlpy  "
   ]
  },
  {
   "cell_type": "markdown",
   "metadata": {},
   "source": [
    "## 문자열에서 명사 추출"
   ]
  },
  {
   "cell_type": "code",
   "execution_count": 7,
   "metadata": {},
   "outputs": [
    {
     "name": "stdout",
     "output_type": "stream",
     "text": [
      "['아버지', '방', '내', '동생']\n"
     ]
    }
   ],
   "source": [
    "from konlpy.tag import Kkma\n",
    "from konlpy.utils import pprint\n",
    "\n",
    "kkma = Kkma()\n",
    "pprint (kkma.nouns(u\"아버지가 방에 들어가신다. 그 방에는 내 동생이 있다.\"))"
   ]
  },
  {
   "cell_type": "markdown",
   "metadata": {},
   "source": [
    "## 형태소 분석"
   ]
  },
  {
   "cell_type": "code",
   "execution_count": 9,
   "metadata": {},
   "outputs": [
    {
     "name": "stdout",
     "output_type": "stream",
     "text": [
      "['아버지',\n",
      " '가',\n",
      " '방',\n",
      " '에',\n",
      " '들어가',\n",
      " '시',\n",
      " 'ㄴ다',\n",
      " '.',\n",
      " '그',\n",
      " '방',\n",
      " '에',\n",
      " '는',\n",
      " '내',\n",
      " '동생',\n",
      " '이',\n",
      " '있',\n",
      " '다',\n",
      " '.']\n"
     ]
    }
   ],
   "source": [
    "from konlpy.tag import Kkma\n",
    "from konlpy.utils import pprint\n",
    "\n",
    "kkma = Kkma()\n",
    "pprint (kkma.morphs(u\"아버지가 방에 들어가신다. 그 방에는 내 동생이 있다.\"))"
   ]
  },
  {
   "cell_type": "markdown",
   "metadata": {},
   "source": [
    "## 품사 태깅"
   ]
  },
  {
   "cell_type": "code",
   "execution_count": 12,
   "metadata": {},
   "outputs": [
    {
     "name": "stdout",
     "output_type": "stream",
     "text": [
      "[('아버지', 'NNG'),\n",
      " ('가', 'JKS'),\n",
      " ('방', 'NNG'),\n",
      " ('에', 'JKM'),\n",
      " ('들어가', 'VV'),\n",
      " ('시', 'EPH'),\n",
      " ('ㄴ다', 'EFN'),\n",
      " ('.', 'SF'),\n",
      " ('그', 'MDT'),\n",
      " ('방', 'NNG'),\n",
      " ('에', 'JKM'),\n",
      " ('는', 'JX'),\n",
      " ('내', 'NP'),\n",
      " ('동생', 'NNG'),\n",
      " ('이', 'JKS'),\n",
      " ('있', 'VV'),\n",
      " ('다', 'EFN'),\n",
      " ('.', 'SF')]\n"
     ]
    }
   ],
   "source": [
    "from konlpy.tag import Kkma\n",
    "from konlpy.utils import pprint\n",
    "\n",
    "kkma = Kkma()\n",
    "pprint (kkma.pos(u\"아버지가 방에 들어가신다. 그 방에는 내 동생이 있다.\"))\n"
   ]
  }
 ],
 "metadata": {
  "kernelspec": {
   "display_name": "Python 3",
   "language": "python",
   "name": "python3"
  },
  "language_info": {
   "codemirror_mode": {
    "name": "ipython",
    "version": 3
   },
   "file_extension": ".py",
   "mimetype": "text/x-python",
   "name": "python",
   "nbconvert_exporter": "python",
   "pygments_lexer": "ipython3",
   "version": "3.7.1"
  }
 },
 "nbformat": 4,
 "nbformat_minor": 2
}
