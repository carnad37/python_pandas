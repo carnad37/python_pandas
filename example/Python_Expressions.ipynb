{
 "cells": [
  {
   "cell_type": "markdown",
   "metadata": {},
   "source": [
    "# “New Style” String Formatting (str.format)"
   ]
  },
  {
   "cell_type": "code",
   "execution_count": 36,
   "metadata": {},
   "outputs": [
    {
     "data": {
      "text/plain": [
       "'Hello, bob'"
      ]
     },
     "execution_count": 36,
     "metadata": {},
     "output_type": "execute_result"
    }
   ],
   "source": [
    "name='bob'\n",
    "'Hello, {}'.format(name)"
   ]
  },
  {
   "cell_type": "code",
   "execution_count": 1,
   "metadata": {},
   "outputs": [
    {
     "data": {
      "text/plain": [
       "[0, 2, 4, 6, 8, 10, 12, 14, 16, 18, 20]"
      ]
     },
     "execution_count": 1,
     "metadata": {},
     "output_type": "execute_result"
    }
   ],
   "source": [
    "# 20까지의 짝수를 출력\n",
    "evens = [x * 2 for x in range(11)]\n",
    "evens"
   ]
  },
  {
   "cell_type": "code",
   "execution_count": 16,
   "metadata": {},
   "outputs": [
    {
     "data": {
      "text/plain": [
       "[1.0587155963302752,\n",
       " 1.0220183486238532,\n",
       " 1.1761467889908257,\n",
       " 1.0770642201834861,\n",
       " 1.0587155963302752,\n",
       " 1.1706422018348623,\n",
       " 1.0568807339449542,\n",
       " 1.0422018348623854,\n",
       " 1.1192660550458715,\n",
       " 1.0788990825688074,\n",
       " 1.1394495412844037]"
      ]
     },
     "execution_count": 16,
     "metadata": {},
     "output_type": "execute_result"
    }
   ],
   "source": [
    "# 리스트의 모든 원소값을 정규화 시킨 후 상수값을 더하는 LC\n",
    "vals = [32, 12, 96, 42, 32, 93, 31, 23, 65, 43, 76]\n",
    "amount = sum(vals)\n",
    "norm_and_move = [(x / amount) + 1 for x in vals]\n",
    "norm_and_move"
   ]
  },
  {
   "cell_type": "code",
   "execution_count": 22,
   "metadata": {
    "collapsed": true
   },
   "outputs": [
    {
     "data": {
      "text/plain": [
       "[2,\n",
       " 3,\n",
       " 5,\n",
       " 6,\n",
       " 7,\n",
       " 8,\n",
       " 10,\n",
       " 12,\n",
       " 13,\n",
       " 15,\n",
       " 18,\n",
       " 19,\n",
       " 20,\n",
       " 23,\n",
       " 24,\n",
       " 26,\n",
       " 28,\n",
       " 29,\n",
       " 31,\n",
       " 32,\n",
       " 37,\n",
       " 38,\n",
       " 40,\n",
       " 43,\n",
       " 45,\n",
       " 48,\n",
       " 50,\n",
       " 51,\n",
       " 52,\n",
       " 58,\n",
       " 59,\n",
       " 60,\n",
       " 61,\n",
       " 63,\n",
       " 65,\n",
       " 66,\n",
       " 72,\n",
       " 73,\n",
       " 75,\n",
       " 76,\n",
       " 77,\n",
       " 78,\n",
       " 80,\n",
       " 82,\n",
       " 87,\n",
       " 89,\n",
       " 92,\n",
       " 94,\n",
       " 95,\n",
       " 96,\n",
       " 97]"
      ]
     },
     "execution_count": 22,
     "metadata": {},
     "output_type": "execute_result"
    }
   ],
   "source": [
    "# 100 이하의 제곱수가 아닌 수를 찾는 LC\n",
    "from math import sqrt\n",
    "non_squars = [x for x in range(101) if sqrt(x)**2 != x]\n",
    "non_squars"
   ]
  },
  {
   "cell_type": "code",
   "execution_count": 24,
   "metadata": {},
   "outputs": [
    {
     "data": {
      "text/plain": [
       "[('sweet', 'john'),\n",
       " ('sweet', 'alice'),\n",
       " ('sweet', 'james'),\n",
       " ('annoying', 'john'),\n",
       " ('annoying', 'alice'),\n",
       " ('annoying', 'james'),\n",
       " ('cool', 'john'),\n",
       " ('cool', 'alice'),\n",
       " ('cool', 'james'),\n",
       " ('grey-eyed', 'john'),\n",
       " ('grey-eyed', 'alice'),\n",
       " ('grey-eyed', 'james')]"
      ]
     },
     "execution_count": 24,
     "metadata": {},
     "output_type": "execute_result"
    }
   ],
   "source": [
    "# 두 리스트의 원소들의 모든 조합을 찾는 LC\n",
    "epithets = ['sweet', 'annoying', 'cool', 'grey-eyed']\n",
    "names = ['john', 'alice', 'james']\n",
    "epithet_names = [(e, n) for e in epithets for n in names]\n",
    "epithet_names"
   ]
  },
  {
   "cell_type": "code",
   "execution_count": 27,
   "metadata": {},
   "outputs": [
    {
     "data": {
      "text/plain": [
       "[(3, 4, 5),\n",
       " (5, 12, 13),\n",
       " (6, 8, 10),\n",
       " (7, 24, 25),\n",
       " (8, 15, 17),\n",
       " (9, 12, 15),\n",
       " (10, 24, 26),\n",
       " (12, 16, 20),\n",
       " (15, 20, 25),\n",
       " (20, 21, 29)]"
      ]
     },
     "execution_count": 27,
     "metadata": {},
     "output_type": "execute_result"
    }
   ],
   "source": [
    "# a^2 + b^2 = c^2 (a < b < c)를 만족하는 피타고라스 방정식의 해를 찾는 LC\n",
    "solutions = [(x, y, z) for x in range(1, 30) for y in range(x, 30) for z in range(y, 30) if x**2 + y**2 == z**2]\n",
    "solutions"
   ]
  },
  {
   "cell_type": "code",
   "execution_count": 30,
   "metadata": {},
   "outputs": [
    {
     "data": {
      "text/plain": [
       "'mthmtcs'"
      ]
     },
     "execution_count": 30,
     "metadata": {},
     "output_type": "execute_result"
    }
   ],
   "source": [
    "# 단어에서 모음을 제거하는 LC\n",
    "word = 'mathematics'\n",
    "without_vowels = ''.join([c for c in word if c not in ['a', 'e', 'i', 'o', 'u']])\n",
    "without_vowels"
   ]
  },
  {
   "cell_type": "code",
   "execution_count": 32,
   "metadata": {},
   "outputs": [
    {
     "data": {
      "text/plain": [
       "[1, 2, 3, 4, 5, 6, 7, 8, 9, 10, 11, 12]"
      ]
     },
     "execution_count": 32,
     "metadata": {},
     "output_type": "execute_result"
    }
   ],
   "source": [
    "matrix = [\n",
    "  [1, 2, 3, 4],\n",
    "  [5, 6, 7, 8],\n",
    "  [9, 10, 11, 12],\n",
    "]\n",
    "flatten = [e for r in matrix for e in r]\n",
    "flatten"
   ]
  }
 ],
 "metadata": {
  "kernelspec": {
   "display_name": "Python 3",
   "language": "python",
   "name": "python3"
  },
  "language_info": {
   "codemirror_mode": {
    "name": "ipython",
    "version": 3
   },
   "file_extension": ".py",
   "mimetype": "text/x-python",
   "name": "python",
   "nbconvert_exporter": "python",
   "pygments_lexer": "ipython3",
   "version": "3.7.1"
  }
 },
 "nbformat": 4,
 "nbformat_minor": 2
}
